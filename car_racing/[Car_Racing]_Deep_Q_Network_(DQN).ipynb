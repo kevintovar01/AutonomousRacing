{
 "cells": [
  {
   "cell_type": "markdown",
   "metadata": {
    "id": "DZsPOkdnEWs4"
   },
   "source": [
    "# Deep Q-Network (DQN)"
   ]
  },
  {
   "cell_type": "code",
   "execution_count": 1,
   "metadata": {
    "colab": {
     "base_uri": "https://localhost:8080/"
    },
    "id": "6i478loXSux4",
    "outputId": "fa381e66-d509-4bc7-a812-318d46dc5449"
   },
   "outputs": [
    {
     "name": "stdout",
     "output_type": "stream",
     "text": [
      "Requirement already satisfied: swig in /home/kevin/.conda/envs/car_racing_py310/lib/python3.10/site-packages (4.3.1)\n"
     ]
    }
   ],
   "source": [
    "!pip install swig"
   ]
  },
  {
   "cell_type": "code",
   "execution_count": 2,
   "metadata": {},
   "outputs": [
    {
     "name": "stdout",
     "output_type": "stream",
     "text": [
      "Requirement already satisfied: tensorboard in /home/kevin/.conda/envs/car_racing_py310/lib/python3.10/site-packages (2.19.0)\n",
      "Requirement already satisfied: absl-py>=0.4 in /home/kevin/.conda/envs/car_racing_py310/lib/python3.10/site-packages (from tensorboard) (2.3.0)\n",
      "Requirement already satisfied: grpcio>=1.48.2 in /home/kevin/.conda/envs/car_racing_py310/lib/python3.10/site-packages (from tensorboard) (1.71.0)\n",
      "Requirement already satisfied: markdown>=2.6.8 in /home/kevin/.conda/envs/car_racing_py310/lib/python3.10/site-packages (from tensorboard) (3.8.2)\n",
      "Requirement already satisfied: numpy>=1.12.0 in /home/kevin/.conda/envs/car_racing_py310/lib/python3.10/site-packages (from tensorboard) (2.0.1)\n",
      "Requirement already satisfied: packaging in /home/kevin/.conda/envs/car_racing_py310/lib/python3.10/site-packages (from tensorboard) (24.2)\n",
      "Requirement already satisfied: protobuf in /home/kevin/.conda/envs/car_racing_py310/lib/python3.10/site-packages (from tensorboard) (5.29.3)\n",
      "Requirement already satisfied: setuptools>=41.0.0 in /home/kevin/.conda/envs/car_racing_py310/lib/python3.10/site-packages (from tensorboard) (78.1.1)\n",
      "Requirement already satisfied: six>1.9 in /home/kevin/.conda/envs/car_racing_py310/lib/python3.10/site-packages (from tensorboard) (1.17.0)\n",
      "Requirement already satisfied: tensorboard-data-server<0.8.0,>=0.7.0 in /home/kevin/.conda/envs/car_racing_py310/lib/python3.10/site-packages (from tensorboard) (0.7.0)\n",
      "Requirement already satisfied: werkzeug>=1.0.1 in /home/kevin/.conda/envs/car_racing_py310/lib/python3.10/site-packages (from tensorboard) (3.1.3)\n",
      "Requirement already satisfied: MarkupSafe>=2.1.1 in /home/kevin/.conda/envs/car_racing_py310/lib/python3.10/site-packages (from werkzeug>=1.0.1->tensorboard) (3.0.2)\n"
     ]
    }
   ],
   "source": [
    "!pip install tensorboard"
   ]
  },
  {
   "cell_type": "code",
   "execution_count": 3,
   "metadata": {
    "colab": {
     "base_uri": "https://localhost:8080/"
    },
    "id": "Ea5lVVPxSs0Y",
    "outputId": "f749e1a8-5596-45a9-9147-94927599d9b9"
   },
   "outputs": [
    {
     "name": "stdout",
     "output_type": "stream",
     "text": [
      "Requirement already satisfied: stable_baselines3 in /home/kevin/.conda/envs/car_racing_py310/lib/python3.10/site-packages (2.6.0)\n",
      "Requirement already satisfied: gymnasium[box2d] in /home/kevin/.conda/envs/car_racing_py310/lib/python3.10/site-packages (1.1.1)\n",
      "Requirement already satisfied: numpy<3.0,>=1.20 in /home/kevin/.conda/envs/car_racing_py310/lib/python3.10/site-packages (from stable_baselines3) (2.0.1)\n",
      "Requirement already satisfied: torch<3.0,>=2.3 in /home/kevin/.conda/envs/car_racing_py310/lib/python3.10/site-packages (from stable_baselines3) (2.7.0)\n",
      "Requirement already satisfied: cloudpickle in /home/kevin/.conda/envs/car_racing_py310/lib/python3.10/site-packages (from stable_baselines3) (3.1.1)\n",
      "Requirement already satisfied: pandas in /home/kevin/.conda/envs/car_racing_py310/lib/python3.10/site-packages (from stable_baselines3) (2.2.3)\n",
      "Requirement already satisfied: matplotlib in /home/kevin/.conda/envs/car_racing_py310/lib/python3.10/site-packages (from stable_baselines3) (3.10.0)\n",
      "Requirement already satisfied: typing-extensions>=4.3.0 in /home/kevin/.conda/envs/car_racing_py310/lib/python3.10/site-packages (from gymnasium[box2d]) (4.12.2)\n",
      "Requirement already satisfied: farama-notifications>=0.0.1 in /home/kevin/.conda/envs/car_racing_py310/lib/python3.10/site-packages (from gymnasium[box2d]) (0.0.4)\n",
      "Requirement already satisfied: filelock in /home/kevin/.conda/envs/car_racing_py310/lib/python3.10/site-packages (from torch<3.0,>=2.3->stable_baselines3) (3.18.0)\n",
      "Requirement already satisfied: sympy>=1.13.3 in /home/kevin/.conda/envs/car_racing_py310/lib/python3.10/site-packages (from torch<3.0,>=2.3->stable_baselines3) (1.14.0)\n",
      "Requirement already satisfied: networkx in /home/kevin/.conda/envs/car_racing_py310/lib/python3.10/site-packages (from torch<3.0,>=2.3->stable_baselines3) (3.4.2)\n",
      "Requirement already satisfied: jinja2 in /home/kevin/.conda/envs/car_racing_py310/lib/python3.10/site-packages (from torch<3.0,>=2.3->stable_baselines3) (3.1.6)\n",
      "Requirement already satisfied: fsspec in /home/kevin/.conda/envs/car_racing_py310/lib/python3.10/site-packages (from torch<3.0,>=2.3->stable_baselines3) (2025.5.1)\n",
      "Requirement already satisfied: nvidia-cuda-nvrtc-cu12==12.6.77 in /home/kevin/.conda/envs/car_racing_py310/lib/python3.10/site-packages (from torch<3.0,>=2.3->stable_baselines3) (12.6.77)\n",
      "Requirement already satisfied: nvidia-cuda-runtime-cu12==12.6.77 in /home/kevin/.conda/envs/car_racing_py310/lib/python3.10/site-packages (from torch<3.0,>=2.3->stable_baselines3) (12.6.77)\n",
      "Requirement already satisfied: nvidia-cuda-cupti-cu12==12.6.80 in /home/kevin/.conda/envs/car_racing_py310/lib/python3.10/site-packages (from torch<3.0,>=2.3->stable_baselines3) (12.6.80)\n",
      "Requirement already satisfied: nvidia-cudnn-cu12==9.5.1.17 in /home/kevin/.conda/envs/car_racing_py310/lib/python3.10/site-packages (from torch<3.0,>=2.3->stable_baselines3) (9.5.1.17)\n",
      "Requirement already satisfied: nvidia-cublas-cu12==12.6.4.1 in /home/kevin/.conda/envs/car_racing_py310/lib/python3.10/site-packages (from torch<3.0,>=2.3->stable_baselines3) (12.6.4.1)\n",
      "Requirement already satisfied: nvidia-cufft-cu12==11.3.0.4 in /home/kevin/.conda/envs/car_racing_py310/lib/python3.10/site-packages (from torch<3.0,>=2.3->stable_baselines3) (11.3.0.4)\n",
      "Requirement already satisfied: nvidia-curand-cu12==10.3.7.77 in /home/kevin/.conda/envs/car_racing_py310/lib/python3.10/site-packages (from torch<3.0,>=2.3->stable_baselines3) (10.3.7.77)\n",
      "Requirement already satisfied: nvidia-cusolver-cu12==11.7.1.2 in /home/kevin/.conda/envs/car_racing_py310/lib/python3.10/site-packages (from torch<3.0,>=2.3->stable_baselines3) (11.7.1.2)\n",
      "Requirement already satisfied: nvidia-cusparse-cu12==12.5.4.2 in /home/kevin/.conda/envs/car_racing_py310/lib/python3.10/site-packages (from torch<3.0,>=2.3->stable_baselines3) (12.5.4.2)\n",
      "Requirement already satisfied: nvidia-cusparselt-cu12==0.6.3 in /home/kevin/.conda/envs/car_racing_py310/lib/python3.10/site-packages (from torch<3.0,>=2.3->stable_baselines3) (0.6.3)\n",
      "Requirement already satisfied: nvidia-nccl-cu12==2.26.2 in /home/kevin/.conda/envs/car_racing_py310/lib/python3.10/site-packages (from torch<3.0,>=2.3->stable_baselines3) (2.26.2)\n",
      "Requirement already satisfied: nvidia-nvtx-cu12==12.6.77 in /home/kevin/.conda/envs/car_racing_py310/lib/python3.10/site-packages (from torch<3.0,>=2.3->stable_baselines3) (12.6.77)\n",
      "Requirement already satisfied: nvidia-nvjitlink-cu12==12.6.85 in /home/kevin/.conda/envs/car_racing_py310/lib/python3.10/site-packages (from torch<3.0,>=2.3->stable_baselines3) (12.6.85)\n",
      "Requirement already satisfied: nvidia-cufile-cu12==1.11.1.6 in /home/kevin/.conda/envs/car_racing_py310/lib/python3.10/site-packages (from torch<3.0,>=2.3->stable_baselines3) (1.11.1.6)\n",
      "Requirement already satisfied: triton==3.3.0 in /home/kevin/.conda/envs/car_racing_py310/lib/python3.10/site-packages (from torch<3.0,>=2.3->stable_baselines3) (3.3.0)\n",
      "Requirement already satisfied: setuptools>=40.8.0 in /home/kevin/.conda/envs/car_racing_py310/lib/python3.10/site-packages (from triton==3.3.0->torch<3.0,>=2.3->stable_baselines3) (78.1.1)\n",
      "Requirement already satisfied: box2d-py==2.3.5 in /home/kevin/.conda/envs/car_racing_py310/lib/python3.10/site-packages (from gymnasium[box2d]) (2.3.5)\n",
      "Requirement already satisfied: pygame>=2.1.3 in /home/kevin/.conda/envs/car_racing_py310/lib/python3.10/site-packages (from gymnasium[box2d]) (2.6.1)\n",
      "Requirement already satisfied: swig==4.* in /home/kevin/.conda/envs/car_racing_py310/lib/python3.10/site-packages (from gymnasium[box2d]) (4.3.1)\n",
      "Requirement already satisfied: mpmath<1.4,>=1.1.0 in /home/kevin/.conda/envs/car_racing_py310/lib/python3.10/site-packages (from sympy>=1.13.3->torch<3.0,>=2.3->stable_baselines3) (1.3.0)\n",
      "Requirement already satisfied: MarkupSafe>=2.0 in /home/kevin/.conda/envs/car_racing_py310/lib/python3.10/site-packages (from jinja2->torch<3.0,>=2.3->stable_baselines3) (3.0.2)\n",
      "Requirement already satisfied: contourpy>=1.0.1 in /home/kevin/.conda/envs/car_racing_py310/lib/python3.10/site-packages (from matplotlib->stable_baselines3) (1.3.1)\n",
      "Requirement already satisfied: cycler>=0.10 in /home/kevin/.conda/envs/car_racing_py310/lib/python3.10/site-packages (from matplotlib->stable_baselines3) (0.11.0)\n",
      "Requirement already satisfied: fonttools>=4.22.0 in /home/kevin/.conda/envs/car_racing_py310/lib/python3.10/site-packages (from matplotlib->stable_baselines3) (4.55.3)\n",
      "Requirement already satisfied: kiwisolver>=1.3.1 in /home/kevin/.conda/envs/car_racing_py310/lib/python3.10/site-packages (from matplotlib->stable_baselines3) (1.4.8)\n",
      "Requirement already satisfied: packaging>=20.0 in /home/kevin/.conda/envs/car_racing_py310/lib/python3.10/site-packages (from matplotlib->stable_baselines3) (24.2)\n",
      "Requirement already satisfied: pillow>=8 in /home/kevin/.conda/envs/car_racing_py310/lib/python3.10/site-packages (from matplotlib->stable_baselines3) (11.1.0)\n",
      "Requirement already satisfied: pyparsing>=2.3.1 in /home/kevin/.conda/envs/car_racing_py310/lib/python3.10/site-packages (from matplotlib->stable_baselines3) (3.2.0)\n",
      "Requirement already satisfied: python-dateutil>=2.7 in /home/kevin/.conda/envs/car_racing_py310/lib/python3.10/site-packages (from matplotlib->stable_baselines3) (2.9.0.post0)\n",
      "Requirement already satisfied: six>=1.5 in /home/kevin/.conda/envs/car_racing_py310/lib/python3.10/site-packages (from python-dateutil>=2.7->matplotlib->stable_baselines3) (1.17.0)\n",
      "Requirement already satisfied: pytz>=2020.1 in /home/kevin/.conda/envs/car_racing_py310/lib/python3.10/site-packages (from pandas->stable_baselines3) (2024.1)\n",
      "Requirement already satisfied: tzdata>=2022.7 in /home/kevin/.conda/envs/car_racing_py310/lib/python3.10/site-packages (from pandas->stable_baselines3) (2025.2)\n"
     ]
    }
   ],
   "source": [
    "!pip install stable_baselines3 'gymnasium[box2d]'"
   ]
  },
  {
   "cell_type": "code",
   "execution_count": 4,
   "metadata": {
    "id": "4vAoPEgwAAl1"
   },
   "outputs": [],
   "source": [
    "import gymnasium\n",
    "import stable_baselines3\n",
    "from gymnasium.wrappers import RecordVideo\n",
    "from stable_baselines3 import DQN\n",
    "from stable_baselines3.common.env_util import make_vec_env\n",
    "from stable_baselines3.common.vec_env import VecFrameStack, VecVideoRecorder\n",
    "from stable_baselines3.common.callbacks import BaseCallback, EvalCallback, CallbackList\n",
    "from stable_baselines3.common.evaluation import evaluate_policy\n",
    "from stable_baselines3.common.vec_env import VecTransposeImage\n",
    "from stable_baselines3.common.atari_wrappers import WarpFrame\n",
    "from stable_baselines3.common.monitor import Monitor\n",
    "\n",
    "import os\n",
    "import numpy\n",
    "import platform\n",
    "import matplotlib\n",
    "import matplotlib.pyplot\n",
    "import torch\n",
    "from importlib.metadata import version"
   ]
  },
  {
   "cell_type": "code",
   "execution_count": 5,
   "metadata": {
    "colab": {
     "base_uri": "https://localhost:8080/"
    },
    "id": "JnU-6mS5_gdL",
    "outputId": "ce94b23c-00f4-42bc-ca42-fbfb6d9fccdd"
   },
   "outputs": [
    {
     "name": "stdout",
     "output_type": "stream",
     "text": [
      "Python Version: 3.10.16\n",
      "Torch Version: 2.7.0\n",
      "Is Cuda Available: True\n",
      "Cuda Version: 12.6\n",
      "Gymnasium Version: 1.1.1\n",
      "Numpy Version: 2.0.1\n",
      "Scipy Version: 1.15.3\n",
      "Swig Version: 4.3.1\n",
      "Stable Baselines3 Version: 2.6.0\n",
      "IPython Version: 8.30.0\n"
     ]
    }
   ],
   "source": [
    "print(f\"Python Version: {platform.python_version()}\")\n",
    "print(f\"Torch Version: {version('torch')}\")\n",
    "print(f\"Is Cuda Available: {torch.cuda.is_available()}\")\n",
    "print(f\"Cuda Version: {torch.version.cuda}\")\n",
    "print(f\"Gymnasium Version: {version('gymnasium')}\")\n",
    "print(f\"Numpy Version: {version('numpy')}\")\n",
    "print(f\"Scipy Version: {version('scipy')}\")\n",
    "print(f\"Swig Version: {version('swig')}\")\n",
    "print(f\"Stable Baselines3 Version: {version('stable_baselines3')}\")\n",
    "print(f\"IPython Version: {version('ipython')}\")"
   ]
  },
  {
   "cell_type": "code",
   "execution_count": 6,
   "metadata": {
    "colab": {
     "base_uri": "https://localhost:8080/"
    },
    "id": "zHqNax80_j2e",
    "outputId": "8c7b8319-b59b-4876-c51a-29fe6f2e6750",
    "scrolled": true
   },
   "outputs": [
    {
     "name": "stdout",
     "output_type": "stream",
     "text": [
      "Observation Space Size:  Box(0, 255, (96, 96, 3), uint8)\n",
      "Action Space Size:  Discrete(5)\n"
     ]
    }
   ],
   "source": [
    "env = gymnasium.make('CarRacing-v3', continuous=False)\n",
    "print(\"Observation Space Size: \", env.observation_space)\n",
    "print(\"Action Space Size: \", env.action_space)\n",
    "env.close()"
   ]
  },
  {
   "cell_type": "code",
   "execution_count": 7,
   "metadata": {
    "id": "t--ziSYY_nmD"
   },
   "outputs": [],
   "source": [
    "env_str = \"CarRacing-v3\"\n",
    "log_dir = \"./logs/{}\".format(env_str)\n",
    "env_kwargs_dict={\"continuous\": False}\n",
    "gray_scale = True\n",
    "\n",
    "# If gray_scale True, convert obs to gray scale 84 x 84 image\n",
    "wrapper_class = WarpFrame if gray_scale else None"
   ]
  },
  {
   "cell_type": "code",
   "execution_count": 8,
   "metadata": {
    "colab": {
     "base_uri": "https://localhost:8080/",
     "height": 434,
     "referenced_widgets": [
      "f572d00e9e4b4cf3981273d21abd8333",
      "30691506b1624e978b402367901d5cfc"
     ]
    },
    "id": "OqA7iZ82SQgF",
    "outputId": "6a0d9747-8fac-4d2d-dcd7-c8468581405d"
   },
   "outputs": [
    {
     "data": {
      "application/vnd.jupyter.widget-view+json": {
       "model_id": "4b816bd4cb624c3ea0c5d6979c989aaf",
       "version_major": 2,
       "version_minor": 0
      },
      "text/plain": [
       "Output()"
      ]
     },
     "metadata": {},
     "output_type": "display_data"
    },
    {
     "data": {
      "text/html": [
       "<pre style=\"white-space:pre;overflow-x:auto;line-height:normal;font-family:Menlo,'DejaVu Sans Mono',consolas,'Courier New',monospace\">Eval num_timesteps=25000, episode_reward=-41.65 +/- 42.19\n",
       "</pre>\n"
      ],
      "text/plain": [
       "Eval num_timesteps=25000, episode_reward=-41.65 +/- 42.19\n"
      ]
     },
     "metadata": {},
     "output_type": "display_data"
    },
    {
     "data": {
      "text/html": [
       "<pre style=\"white-space:pre;overflow-x:auto;line-height:normal;font-family:Menlo,'DejaVu Sans Mono',consolas,'Courier New',monospace\">Episode length: 336.00 +/- 38.10\n",
       "</pre>\n"
      ],
      "text/plain": [
       "Episode length: 336.00 +/- 38.10\n"
      ]
     },
     "metadata": {},
     "output_type": "display_data"
    },
    {
     "data": {
      "text/html": [
       "<pre style=\"white-space:pre;overflow-x:auto;line-height:normal;font-family:Menlo,'DejaVu Sans Mono',consolas,'Courier New',monospace\">New best mean reward!\n",
       "</pre>\n"
      ],
      "text/plain": [
       "New best mean reward!\n"
      ]
     },
     "metadata": {},
     "output_type": "display_data"
    },
    {
     "data": {
      "text/html": [
       "<pre style=\"white-space:pre;overflow-x:auto;line-height:normal;font-family:Menlo,'DejaVu Sans Mono',consolas,'Courier New',monospace\">Eval num_timesteps=50000, episode_reward=-80.43 +/- 3.06\n",
       "</pre>\n"
      ],
      "text/plain": [
       "Eval num_timesteps=50000, episode_reward=-80.43 +/- 3.06\n"
      ]
     },
     "metadata": {},
     "output_type": "display_data"
    },
    {
     "data": {
      "text/html": [
       "<pre style=\"white-space:pre;overflow-x:auto;line-height:normal;font-family:Menlo,'DejaVu Sans Mono',consolas,'Courier New',monospace\">Episode length: 1000.00 +/- 0.00\n",
       "</pre>\n"
      ],
      "text/plain": [
       "Episode length: 1000.00 +/- 0.00\n"
      ]
     },
     "metadata": {},
     "output_type": "display_data"
    },
    {
     "data": {
      "text/html": [
       "<pre style=\"white-space:pre;overflow-x:auto;line-height:normal;font-family:Menlo,'DejaVu Sans Mono',consolas,'Courier New',monospace\">Eval num_timesteps=75000, episode_reward=-59.02 +/- 29.59\n",
       "</pre>\n"
      ],
      "text/plain": [
       "Eval num_timesteps=75000, episode_reward=-59.02 +/- 29.59\n"
      ]
     },
     "metadata": {},
     "output_type": "display_data"
    },
    {
     "data": {
      "text/html": [
       "<pre style=\"white-space:pre;overflow-x:auto;line-height:normal;font-family:Menlo,'DejaVu Sans Mono',consolas,'Courier New',monospace\">Episode length: 397.60 +/- 41.41\n",
       "</pre>\n"
      ],
      "text/plain": [
       "Episode length: 397.60 +/- 41.41\n"
      ]
     },
     "metadata": {},
     "output_type": "display_data"
    },
    {
     "data": {
      "text/html": [
       "<pre style=\"white-space:pre;overflow-x:auto;line-height:normal;font-family:Menlo,'DejaVu Sans Mono',consolas,'Courier New',monospace\">Eval num_timesteps=100000, episode_reward=99.45 +/- 102.16\n",
       "</pre>\n"
      ],
      "text/plain": [
       "Eval num_timesteps=100000, episode_reward=99.45 +/- 102.16\n"
      ]
     },
     "metadata": {},
     "output_type": "display_data"
    },
    {
     "data": {
      "text/html": [
       "<pre style=\"white-space:pre;overflow-x:auto;line-height:normal;font-family:Menlo,'DejaVu Sans Mono',consolas,'Courier New',monospace\">Episode length: 1000.00 +/- 0.00\n",
       "</pre>\n"
      ],
      "text/plain": [
       "Episode length: 1000.00 +/- 0.00\n"
      ]
     },
     "metadata": {},
     "output_type": "display_data"
    },
    {
     "data": {
      "text/html": [
       "<pre style=\"white-space:pre;overflow-x:auto;line-height:normal;font-family:Menlo,'DejaVu Sans Mono',consolas,'Courier New',monospace\">New best mean reward!\n",
       "</pre>\n"
      ],
      "text/plain": [
       "New best mean reward!\n"
      ]
     },
     "metadata": {},
     "output_type": "display_data"
    },
    {
     "data": {
      "text/html": [
       "<pre style=\"white-space:pre;overflow-x:auto;line-height:normal;font-family:Menlo,'DejaVu Sans Mono',consolas,'Courier New',monospace\">Eval num_timesteps=125000, episode_reward=-84.27 +/- 9.30\n",
       "</pre>\n"
      ],
      "text/plain": [
       "Eval num_timesteps=125000, episode_reward=-84.27 +/- 9.30\n"
      ]
     },
     "metadata": {},
     "output_type": "display_data"
    },
    {
     "data": {
      "text/html": [
       "<pre style=\"white-space:pre;overflow-x:auto;line-height:normal;font-family:Menlo,'DejaVu Sans Mono',consolas,'Courier New',monospace\">Episode length: 1000.00 +/- 0.00\n",
       "</pre>\n"
      ],
      "text/plain": [
       "Episode length: 1000.00 +/- 0.00\n"
      ]
     },
     "metadata": {},
     "output_type": "display_data"
    },
    {
     "data": {
      "text/html": [
       "<pre style=\"white-space:pre;overflow-x:auto;line-height:normal;font-family:Menlo,'DejaVu Sans Mono',consolas,'Courier New',monospace\">Eval num_timesteps=150000, episode_reward=-43.58 +/- 46.90\n",
       "</pre>\n"
      ],
      "text/plain": [
       "Eval num_timesteps=150000, episode_reward=-43.58 +/- 46.90\n"
      ]
     },
     "metadata": {},
     "output_type": "display_data"
    },
    {
     "data": {
      "text/html": [
       "<pre style=\"white-space:pre;overflow-x:auto;line-height:normal;font-family:Menlo,'DejaVu Sans Mono',consolas,'Courier New',monospace\">Episode length: 783.65 +/- 244.82\n",
       "</pre>\n"
      ],
      "text/plain": [
       "Episode length: 783.65 +/- 244.82\n"
      ]
     },
     "metadata": {},
     "output_type": "display_data"
    },
    {
     "data": {
      "text/html": [
       "<pre style=\"white-space:pre;overflow-x:auto;line-height:normal;font-family:Menlo,'DejaVu Sans Mono',consolas,'Courier New',monospace\">Eval num_timesteps=175000, episode_reward=-9.90 +/- 33.68\n",
       "</pre>\n"
      ],
      "text/plain": [
       "Eval num_timesteps=175000, episode_reward=-9.90 +/- 33.68\n"
      ]
     },
     "metadata": {},
     "output_type": "display_data"
    },
    {
     "data": {
      "text/html": [
       "<pre style=\"white-space:pre;overflow-x:auto;line-height:normal;font-family:Menlo,'DejaVu Sans Mono',consolas,'Courier New',monospace\">Episode length: 1000.00 +/- 0.00\n",
       "</pre>\n"
      ],
      "text/plain": [
       "Episode length: 1000.00 +/- 0.00\n"
      ]
     },
     "metadata": {},
     "output_type": "display_data"
    },
    {
     "data": {
      "text/html": [
       "<pre style=\"white-space:pre;overflow-x:auto;line-height:normal;font-family:Menlo,'DejaVu Sans Mono',consolas,'Courier New',monospace\">Eval num_timesteps=200000, episode_reward=276.20 +/- 148.24\n",
       "</pre>\n"
      ],
      "text/plain": [
       "Eval num_timesteps=200000, episode_reward=276.20 +/- 148.24\n"
      ]
     },
     "metadata": {},
     "output_type": "display_data"
    },
    {
     "data": {
      "text/html": [
       "<pre style=\"white-space:pre;overflow-x:auto;line-height:normal;font-family:Menlo,'DejaVu Sans Mono',consolas,'Courier New',monospace\">Episode length: 1000.00 +/- 0.00\n",
       "</pre>\n"
      ],
      "text/plain": [
       "Episode length: 1000.00 +/- 0.00\n"
      ]
     },
     "metadata": {},
     "output_type": "display_data"
    },
    {
     "data": {
      "text/html": [
       "<pre style=\"white-space:pre;overflow-x:auto;line-height:normal;font-family:Menlo,'DejaVu Sans Mono',consolas,'Courier New',monospace\">New best mean reward!\n",
       "</pre>\n"
      ],
      "text/plain": [
       "New best mean reward!\n"
      ]
     },
     "metadata": {},
     "output_type": "display_data"
    },
    {
     "data": {
      "text/html": [
       "<pre style=\"white-space:pre;overflow-x:auto;line-height:normal;font-family:Menlo,'DejaVu Sans Mono',consolas,'Courier New',monospace\">Eval num_timesteps=225000, episode_reward=259.88 +/- 229.94\n",
       "</pre>\n"
      ],
      "text/plain": [
       "Eval num_timesteps=225000, episode_reward=259.88 +/- 229.94\n"
      ]
     },
     "metadata": {},
     "output_type": "display_data"
    },
    {
     "data": {
      "text/html": [
       "<pre style=\"white-space:pre;overflow-x:auto;line-height:normal;font-family:Menlo,'DejaVu Sans Mono',consolas,'Courier New',monospace\">Episode length: 903.30 +/- 209.56\n",
       "</pre>\n"
      ],
      "text/plain": [
       "Episode length: 903.30 +/- 209.56\n"
      ]
     },
     "metadata": {},
     "output_type": "display_data"
    },
    {
     "data": {
      "text/html": [
       "<pre style=\"white-space:pre;overflow-x:auto;line-height:normal;font-family:Menlo,'DejaVu Sans Mono',consolas,'Courier New',monospace\">Eval num_timesteps=250000, episode_reward=253.72 +/- 141.20\n",
       "</pre>\n"
      ],
      "text/plain": [
       "Eval num_timesteps=250000, episode_reward=253.72 +/- 141.20\n"
      ]
     },
     "metadata": {},
     "output_type": "display_data"
    },
    {
     "data": {
      "text/html": [
       "<pre style=\"white-space:pre;overflow-x:auto;line-height:normal;font-family:Menlo,'DejaVu Sans Mono',consolas,'Courier New',monospace\">Episode length: 1000.00 +/- 0.00\n",
       "</pre>\n"
      ],
      "text/plain": [
       "Episode length: 1000.00 +/- 0.00\n"
      ]
     },
     "metadata": {},
     "output_type": "display_data"
    },
    {
     "data": {
      "text/html": [
       "<pre style=\"white-space:pre;overflow-x:auto;line-height:normal;font-family:Menlo,'DejaVu Sans Mono',consolas,'Courier New',monospace\">Eval num_timesteps=275000, episode_reward=256.39 +/- 122.81\n",
       "</pre>\n"
      ],
      "text/plain": [
       "Eval num_timesteps=275000, episode_reward=256.39 +/- 122.81\n"
      ]
     },
     "metadata": {},
     "output_type": "display_data"
    },
    {
     "data": {
      "text/html": [
       "<pre style=\"white-space:pre;overflow-x:auto;line-height:normal;font-family:Menlo,'DejaVu Sans Mono',consolas,'Courier New',monospace\">Episode length: 971.45 +/- 124.45\n",
       "</pre>\n"
      ],
      "text/plain": [
       "Episode length: 971.45 +/- 124.45\n"
      ]
     },
     "metadata": {},
     "output_type": "display_data"
    },
    {
     "data": {
      "text/html": [
       "<pre style=\"white-space:pre;overflow-x:auto;line-height:normal;font-family:Menlo,'DejaVu Sans Mono',consolas,'Courier New',monospace\">Eval num_timesteps=300000, episode_reward=220.28 +/- 172.38\n",
       "</pre>\n"
      ],
      "text/plain": [
       "Eval num_timesteps=300000, episode_reward=220.28 +/- 172.38\n"
      ]
     },
     "metadata": {},
     "output_type": "display_data"
    },
    {
     "data": {
      "text/html": [
       "<pre style=\"white-space:pre;overflow-x:auto;line-height:normal;font-family:Menlo,'DejaVu Sans Mono',consolas,'Courier New',monospace\">Episode length: 1000.00 +/- 0.00\n",
       "</pre>\n"
      ],
      "text/plain": [
       "Episode length: 1000.00 +/- 0.00\n"
      ]
     },
     "metadata": {},
     "output_type": "display_data"
    },
    {
     "data": {
      "text/html": [
       "<pre style=\"white-space:pre;overflow-x:auto;line-height:normal;font-family:Menlo,'DejaVu Sans Mono',consolas,'Courier New',monospace\">Eval num_timesteps=325000, episode_reward=515.44 +/- 182.53\n",
       "</pre>\n"
      ],
      "text/plain": [
       "Eval num_timesteps=325000, episode_reward=515.44 +/- 182.53\n"
      ]
     },
     "metadata": {},
     "output_type": "display_data"
    },
    {
     "data": {
      "text/html": [
       "<pre style=\"white-space:pre;overflow-x:auto;line-height:normal;font-family:Menlo,'DejaVu Sans Mono',consolas,'Courier New',monospace\">Episode length: 1000.00 +/- 0.00\n",
       "</pre>\n"
      ],
      "text/plain": [
       "Episode length: 1000.00 +/- 0.00\n"
      ]
     },
     "metadata": {},
     "output_type": "display_data"
    },
    {
     "data": {
      "text/html": [
       "<pre style=\"white-space:pre;overflow-x:auto;line-height:normal;font-family:Menlo,'DejaVu Sans Mono',consolas,'Courier New',monospace\">New best mean reward!\n",
       "</pre>\n"
      ],
      "text/plain": [
       "New best mean reward!\n"
      ]
     },
     "metadata": {},
     "output_type": "display_data"
    },
    {
     "data": {
      "text/html": [
       "<pre style=\"white-space:pre;overflow-x:auto;line-height:normal;font-family:Menlo,'DejaVu Sans Mono',consolas,'Courier New',monospace\">Eval num_timesteps=350000, episode_reward=367.58 +/- 204.93\n",
       "</pre>\n"
      ],
      "text/plain": [
       "Eval num_timesteps=350000, episode_reward=367.58 +/- 204.93\n"
      ]
     },
     "metadata": {},
     "output_type": "display_data"
    },
    {
     "data": {
      "text/html": [
       "<pre style=\"white-space:pre;overflow-x:auto;line-height:normal;font-family:Menlo,'DejaVu Sans Mono',consolas,'Courier New',monospace\">Episode length: 914.45 +/- 129.29\n",
       "</pre>\n"
      ],
      "text/plain": [
       "Episode length: 914.45 +/- 129.29\n"
      ]
     },
     "metadata": {},
     "output_type": "display_data"
    },
    {
     "data": {
      "text/html": [
       "<pre style=\"white-space:pre;overflow-x:auto;line-height:normal;font-family:Menlo,'DejaVu Sans Mono',consolas,'Courier New',monospace\">Eval num_timesteps=375000, episode_reward=584.02 +/- 218.57\n",
       "</pre>\n"
      ],
      "text/plain": [
       "Eval num_timesteps=375000, episode_reward=584.02 +/- 218.57\n"
      ]
     },
     "metadata": {},
     "output_type": "display_data"
    },
    {
     "data": {
      "text/html": [
       "<pre style=\"white-space:pre;overflow-x:auto;line-height:normal;font-family:Menlo,'DejaVu Sans Mono',consolas,'Courier New',monospace\">Episode length: 993.75 +/- 27.24\n",
       "</pre>\n"
      ],
      "text/plain": [
       "Episode length: 993.75 +/- 27.24\n"
      ]
     },
     "metadata": {},
     "output_type": "display_data"
    },
    {
     "data": {
      "text/html": [
       "<pre style=\"white-space:pre;overflow-x:auto;line-height:normal;font-family:Menlo,'DejaVu Sans Mono',consolas,'Courier New',monospace\">New best mean reward!\n",
       "</pre>\n"
      ],
      "text/plain": [
       "New best mean reward!\n"
      ]
     },
     "metadata": {},
     "output_type": "display_data"
    },
    {
     "data": {
      "text/html": [
       "<pre style=\"white-space:pre;overflow-x:auto;line-height:normal;font-family:Menlo,'DejaVu Sans Mono',consolas,'Courier New',monospace\">Eval num_timesteps=400000, episode_reward=694.26 +/- 220.02\n",
       "</pre>\n"
      ],
      "text/plain": [
       "Eval num_timesteps=400000, episode_reward=694.26 +/- 220.02\n"
      ]
     },
     "metadata": {},
     "output_type": "display_data"
    },
    {
     "data": {
      "text/html": [
       "<pre style=\"white-space:pre;overflow-x:auto;line-height:normal;font-family:Menlo,'DejaVu Sans Mono',consolas,'Courier New',monospace\">Episode length: 1000.00 +/- 0.00\n",
       "</pre>\n"
      ],
      "text/plain": [
       "Episode length: 1000.00 +/- 0.00\n"
      ]
     },
     "metadata": {},
     "output_type": "display_data"
    },
    {
     "data": {
      "text/html": [
       "<pre style=\"white-space:pre;overflow-x:auto;line-height:normal;font-family:Menlo,'DejaVu Sans Mono',consolas,'Courier New',monospace\">New best mean reward!\n",
       "</pre>\n"
      ],
      "text/plain": [
       "New best mean reward!\n"
      ]
     },
     "metadata": {},
     "output_type": "display_data"
    },
    {
     "data": {
      "text/html": [
       "<pre style=\"white-space:pre;overflow-x:auto;line-height:normal;font-family:Menlo,'DejaVu Sans Mono',consolas,'Courier New',monospace\">Eval num_timesteps=425000, episode_reward=675.72 +/- 232.74\n",
       "</pre>\n"
      ],
      "text/plain": [
       "Eval num_timesteps=425000, episode_reward=675.72 +/- 232.74\n"
      ]
     },
     "metadata": {},
     "output_type": "display_data"
    },
    {
     "data": {
      "text/html": [
       "<pre style=\"white-space:pre;overflow-x:auto;line-height:normal;font-family:Menlo,'DejaVu Sans Mono',consolas,'Courier New',monospace\">Episode length: 992.25 +/- 19.32\n",
       "</pre>\n"
      ],
      "text/plain": [
       "Episode length: 992.25 +/- 19.32\n"
      ]
     },
     "metadata": {},
     "output_type": "display_data"
    },
    {
     "data": {
      "text/html": [
       "<pre style=\"white-space:pre;overflow-x:auto;line-height:normal;font-family:Menlo,'DejaVu Sans Mono',consolas,'Courier New',monospace\">Eval num_timesteps=450000, episode_reward=573.45 +/- 217.63\n",
       "</pre>\n"
      ],
      "text/plain": [
       "Eval num_timesteps=450000, episode_reward=573.45 +/- 217.63\n"
      ]
     },
     "metadata": {},
     "output_type": "display_data"
    },
    {
     "data": {
      "text/html": [
       "<pre style=\"white-space:pre;overflow-x:auto;line-height:normal;font-family:Menlo,'DejaVu Sans Mono',consolas,'Courier New',monospace\">Episode length: 995.75 +/- 18.53\n",
       "</pre>\n"
      ],
      "text/plain": [
       "Episode length: 995.75 +/- 18.53\n"
      ]
     },
     "metadata": {},
     "output_type": "display_data"
    },
    {
     "data": {
      "text/html": [
       "<pre style=\"white-space:pre;overflow-x:auto;line-height:normal;font-family:Menlo,'DejaVu Sans Mono',consolas,'Courier New',monospace\">Eval num_timesteps=475000, episode_reward=741.51 +/- 55.12\n",
       "</pre>\n"
      ],
      "text/plain": [
       "Eval num_timesteps=475000, episode_reward=741.51 +/- 55.12\n"
      ]
     },
     "metadata": {},
     "output_type": "display_data"
    },
    {
     "data": {
      "text/html": [
       "<pre style=\"white-space:pre;overflow-x:auto;line-height:normal;font-family:Menlo,'DejaVu Sans Mono',consolas,'Courier New',monospace\">Episode length: 1000.00 +/- 0.00\n",
       "</pre>\n"
      ],
      "text/plain": [
       "Episode length: 1000.00 +/- 0.00\n"
      ]
     },
     "metadata": {},
     "output_type": "display_data"
    },
    {
     "data": {
      "text/html": [
       "<pre style=\"white-space:pre;overflow-x:auto;line-height:normal;font-family:Menlo,'DejaVu Sans Mono',consolas,'Courier New',monospace\">New best mean reward!\n",
       "</pre>\n"
      ],
      "text/plain": [
       "New best mean reward!\n"
      ]
     },
     "metadata": {},
     "output_type": "display_data"
    },
    {
     "data": {
      "text/html": [
       "<pre style=\"white-space:pre;overflow-x:auto;line-height:normal;font-family:Menlo,'DejaVu Sans Mono',consolas,'Courier New',monospace\">Eval num_timesteps=500000, episode_reward=794.09 +/- 265.49\n",
       "</pre>\n"
      ],
      "text/plain": [
       "Eval num_timesteps=500000, episode_reward=794.09 +/- 265.49\n"
      ]
     },
     "metadata": {},
     "output_type": "display_data"
    },
    {
     "data": {
      "text/html": [
       "<pre style=\"white-space:pre;overflow-x:auto;line-height:normal;font-family:Menlo,'DejaVu Sans Mono',consolas,'Courier New',monospace\">Episode length: 936.30 +/- 66.68\n",
       "</pre>\n"
      ],
      "text/plain": [
       "Episode length: 936.30 +/- 66.68\n"
      ]
     },
     "metadata": {},
     "output_type": "display_data"
    },
    {
     "data": {
      "text/html": [
       "<pre style=\"white-space:pre;overflow-x:auto;line-height:normal;font-family:Menlo,'DejaVu Sans Mono',consolas,'Courier New',monospace\">New best mean reward!\n",
       "</pre>\n"
      ],
      "text/plain": [
       "New best mean reward!\n"
      ]
     },
     "metadata": {},
     "output_type": "display_data"
    },
    {
     "data": {
      "text/html": [
       "<pre style=\"white-space:pre;overflow-x:auto;line-height:normal;font-family:Menlo,'DejaVu Sans Mono',consolas,'Courier New',monospace\">Eval num_timesteps=525000, episode_reward=715.28 +/- 209.78\n",
       "</pre>\n"
      ],
      "text/plain": [
       "Eval num_timesteps=525000, episode_reward=715.28 +/- 209.78\n"
      ]
     },
     "metadata": {},
     "output_type": "display_data"
    },
    {
     "data": {
      "text/html": [
       "<pre style=\"white-space:pre;overflow-x:auto;line-height:normal;font-family:Menlo,'DejaVu Sans Mono',consolas,'Courier New',monospace\">Episode length: 986.90 +/- 57.10\n",
       "</pre>\n"
      ],
      "text/plain": [
       "Episode length: 986.90 +/- 57.10\n"
      ]
     },
     "metadata": {},
     "output_type": "display_data"
    },
    {
     "data": {
      "text/html": [
       "<pre style=\"white-space:pre;overflow-x:auto;line-height:normal;font-family:Menlo,'DejaVu Sans Mono',consolas,'Courier New',monospace\">Eval num_timesteps=550000, episode_reward=858.37 +/- 65.98\n",
       "</pre>\n"
      ],
      "text/plain": [
       "Eval num_timesteps=550000, episode_reward=858.37 +/- 65.98\n"
      ]
     },
     "metadata": {},
     "output_type": "display_data"
    },
    {
     "data": {
      "text/html": [
       "<pre style=\"white-space:pre;overflow-x:auto;line-height:normal;font-family:Menlo,'DejaVu Sans Mono',consolas,'Courier New',monospace\">Episode length: 943.80 +/- 80.00\n",
       "</pre>\n"
      ],
      "text/plain": [
       "Episode length: 943.80 +/- 80.00\n"
      ]
     },
     "metadata": {},
     "output_type": "display_data"
    },
    {
     "data": {
      "text/html": [
       "<pre style=\"white-space:pre;overflow-x:auto;line-height:normal;font-family:Menlo,'DejaVu Sans Mono',consolas,'Courier New',monospace\">New best mean reward!\n",
       "</pre>\n"
      ],
      "text/plain": [
       "New best mean reward!\n"
      ]
     },
     "metadata": {},
     "output_type": "display_data"
    },
    {
     "data": {
      "text/html": [
       "<pre style=\"white-space:pre;overflow-x:auto;line-height:normal;font-family:Menlo,'DejaVu Sans Mono',consolas,'Courier New',monospace\">Eval num_timesteps=575000, episode_reward=772.40 +/- 138.13\n",
       "</pre>\n"
      ],
      "text/plain": [
       "Eval num_timesteps=575000, episode_reward=772.40 +/- 138.13\n"
      ]
     },
     "metadata": {},
     "output_type": "display_data"
    },
    {
     "data": {
      "text/html": [
       "<pre style=\"white-space:pre;overflow-x:auto;line-height:normal;font-family:Menlo,'DejaVu Sans Mono',consolas,'Courier New',monospace\">Episode length: 986.35 +/- 44.07\n",
       "</pre>\n"
      ],
      "text/plain": [
       "Episode length: 986.35 +/- 44.07\n"
      ]
     },
     "metadata": {},
     "output_type": "display_data"
    },
    {
     "data": {
      "text/html": [
       "<pre style=\"white-space:pre;overflow-x:auto;line-height:normal;font-family:Menlo,'DejaVu Sans Mono',consolas,'Courier New',monospace\">Eval num_timesteps=600000, episode_reward=780.85 +/- 72.97\n",
       "</pre>\n"
      ],
      "text/plain": [
       "Eval num_timesteps=600000, episode_reward=780.85 +/- 72.97\n"
      ]
     },
     "metadata": {},
     "output_type": "display_data"
    },
    {
     "data": {
      "text/html": [
       "<pre style=\"white-space:pre;overflow-x:auto;line-height:normal;font-family:Menlo,'DejaVu Sans Mono',consolas,'Courier New',monospace\">Episode length: 1000.00 +/- 0.00\n",
       "</pre>\n"
      ],
      "text/plain": [
       "Episode length: 1000.00 +/- 0.00\n"
      ]
     },
     "metadata": {},
     "output_type": "display_data"
    },
    {
     "data": {
      "text/html": [
       "<pre style=\"white-space:pre;overflow-x:auto;line-height:normal;font-family:Menlo,'DejaVu Sans Mono',consolas,'Courier New',monospace\">Eval num_timesteps=625000, episode_reward=895.36 +/- 27.95\n",
       "</pre>\n"
      ],
      "text/plain": [
       "Eval num_timesteps=625000, episode_reward=895.36 +/- 27.95\n"
      ]
     },
     "metadata": {},
     "output_type": "display_data"
    },
    {
     "data": {
      "text/html": [
       "<pre style=\"white-space:pre;overflow-x:auto;line-height:normal;font-family:Menlo,'DejaVu Sans Mono',consolas,'Courier New',monospace\">Episode length: 929.55 +/- 61.74\n",
       "</pre>\n"
      ],
      "text/plain": [
       "Episode length: 929.55 +/- 61.74\n"
      ]
     },
     "metadata": {},
     "output_type": "display_data"
    },
    {
     "data": {
      "text/html": [
       "<pre style=\"white-space:pre;overflow-x:auto;line-height:normal;font-family:Menlo,'DejaVu Sans Mono',consolas,'Courier New',monospace\">New best mean reward!\n",
       "</pre>\n"
      ],
      "text/plain": [
       "New best mean reward!\n"
      ]
     },
     "metadata": {},
     "output_type": "display_data"
    },
    {
     "data": {
      "text/html": [
       "<pre style=\"white-space:pre;overflow-x:auto;line-height:normal;font-family:Menlo,'DejaVu Sans Mono',consolas,'Courier New',monospace\">Eval num_timesteps=650000, episode_reward=901.85 +/- 22.75\n",
       "</pre>\n"
      ],
      "text/plain": [
       "Eval num_timesteps=650000, episode_reward=901.85 +/- 22.75\n"
      ]
     },
     "metadata": {},
     "output_type": "display_data"
    },
    {
     "data": {
      "text/html": [
       "<pre style=\"white-space:pre;overflow-x:auto;line-height:normal;font-family:Menlo,'DejaVu Sans Mono',consolas,'Courier New',monospace\">Episode length: 915.40 +/- 57.20\n",
       "</pre>\n"
      ],
      "text/plain": [
       "Episode length: 915.40 +/- 57.20\n"
      ]
     },
     "metadata": {},
     "output_type": "display_data"
    },
    {
     "data": {
      "text/html": [
       "<pre style=\"white-space:pre;overflow-x:auto;line-height:normal;font-family:Menlo,'DejaVu Sans Mono',consolas,'Courier New',monospace\">New best mean reward!\n",
       "</pre>\n"
      ],
      "text/plain": [
       "New best mean reward!\n"
      ]
     },
     "metadata": {},
     "output_type": "display_data"
    },
    {
     "data": {
      "text/html": [
       "<pre style=\"white-space:pre;overflow-x:auto;line-height:normal;font-family:Menlo,'DejaVu Sans Mono',consolas,'Courier New',monospace\">Eval num_timesteps=675000, episode_reward=835.04 +/- 174.65\n",
       "</pre>\n"
      ],
      "text/plain": [
       "Eval num_timesteps=675000, episode_reward=835.04 +/- 174.65\n"
      ]
     },
     "metadata": {},
     "output_type": "display_data"
    },
    {
     "data": {
      "text/html": [
       "<pre style=\"white-space:pre;overflow-x:auto;line-height:normal;font-family:Menlo,'DejaVu Sans Mono',consolas,'Courier New',monospace\">Episode length: 951.75 +/- 65.67\n",
       "</pre>\n"
      ],
      "text/plain": [
       "Episode length: 951.75 +/- 65.67\n"
      ]
     },
     "metadata": {},
     "output_type": "display_data"
    },
    {
     "data": {
      "text/html": [
       "<pre style=\"white-space:pre;overflow-x:auto;line-height:normal;font-family:Menlo,'DejaVu Sans Mono',consolas,'Courier New',monospace\">Eval num_timesteps=700000, episode_reward=836.25 +/- 137.59\n",
       "</pre>\n"
      ],
      "text/plain": [
       "Eval num_timesteps=700000, episode_reward=836.25 +/- 137.59\n"
      ]
     },
     "metadata": {},
     "output_type": "display_data"
    },
    {
     "data": {
      "text/html": [
       "<pre style=\"white-space:pre;overflow-x:auto;line-height:normal;font-family:Menlo,'DejaVu Sans Mono',consolas,'Courier New',monospace\">Episode length: 945.95 +/- 67.48\n",
       "</pre>\n"
      ],
      "text/plain": [
       "Episode length: 945.95 +/- 67.48\n"
      ]
     },
     "metadata": {},
     "output_type": "display_data"
    },
    {
     "data": {
      "text/html": [
       "<pre style=\"white-space:pre;overflow-x:auto;line-height:normal;font-family:Menlo,'DejaVu Sans Mono',consolas,'Courier New',monospace\">Eval num_timesteps=725000, episode_reward=765.77 +/- 162.80\n",
       "</pre>\n"
      ],
      "text/plain": [
       "Eval num_timesteps=725000, episode_reward=765.77 +/- 162.80\n"
      ]
     },
     "metadata": {},
     "output_type": "display_data"
    },
    {
     "data": {
      "text/html": [
       "<pre style=\"white-space:pre;overflow-x:auto;line-height:normal;font-family:Menlo,'DejaVu Sans Mono',consolas,'Courier New',monospace\">Episode length: 987.25 +/- 40.54\n",
       "</pre>\n"
      ],
      "text/plain": [
       "Episode length: 987.25 +/- 40.54\n"
      ]
     },
     "metadata": {},
     "output_type": "display_data"
    },
    {
     "data": {
      "text/html": [
       "<pre style=\"white-space:pre;overflow-x:auto;line-height:normal;font-family:Menlo,'DejaVu Sans Mono',consolas,'Courier New',monospace\">Eval num_timesteps=750000, episode_reward=889.48 +/- 35.45\n",
       "</pre>\n"
      ],
      "text/plain": [
       "Eval num_timesteps=750000, episode_reward=889.48 +/- 35.45\n"
      ]
     },
     "metadata": {},
     "output_type": "display_data"
    },
    {
     "data": {
      "text/html": [
       "<pre style=\"white-space:pre;overflow-x:auto;line-height:normal;font-family:Menlo,'DejaVu Sans Mono',consolas,'Courier New',monospace\">Episode length: 927.15 +/- 92.43\n",
       "</pre>\n"
      ],
      "text/plain": [
       "Episode length: 927.15 +/- 92.43\n"
      ]
     },
     "metadata": {},
     "output_type": "display_data"
    },
    {
     "data": {
      "text/html": [
       "<pre style=\"white-space:pre;overflow-x:auto;line-height:normal;font-family:Menlo,'DejaVu Sans Mono',consolas,'Courier New',monospace\"></pre>\n"
      ],
      "text/plain": []
     },
     "metadata": {},
     "output_type": "display_data"
    },
    {
     "name": "stdout",
     "output_type": "stream",
     "text": [
      "Mean reward: 884.14 +/- 45.45\n"
     ]
    }
   ],
   "source": [
    "def make_env():\n",
    "    env = gym.make(env_str, **env_kwargs_dict)\n",
    "    env = wrapper_class(env)\n",
    "    return Monitor(env)\n",
    "\n",
    "\n",
    "# Create Training CarRacing environment\n",
    "env = make_vec_env(env_str,\n",
    "                   n_envs=1,\n",
    "                   env_kwargs=env_kwargs_dict,\n",
    "                   wrapper_class=wrapper_class)\n",
    "env = VecFrameStack(env, n_stack=4)\n",
    "env = VecTransposeImage(env)\n",
    "\n",
    "# Create Evaluation CarRacing environment\n",
    "env_val = make_vec_env(env_str,\n",
    "                       n_envs=1,\n",
    "                       env_kwargs=env_kwargs_dict,\n",
    "                       wrapper_class=wrapper_class)\n",
    "env_val = VecFrameStack(env_val, n_stack=4)\n",
    "env_val = VecTransposeImage(env_val)\n",
    "\n",
    "# Create Evaluation Callback\n",
    "# eval_freq - can cause learning instability if set to low\n",
    "eval_callback = EvalCallback(env_val,\n",
    "                             best_model_save_path=log_dir,\n",
    "                             log_path=log_dir,\n",
    "                             eval_freq=25_000,\n",
    "                             render=False,\n",
    "                             n_eval_episodes=20)\n",
    "\n",
    "# Initialize DQN\n",
    "# buffer_size - encourages exploration of other actions\n",
    "model = DQN('CnnPolicy',\n",
    "            env,\n",
    "            # gamma=0.999,\n",
    "            # train_freq=16,\n",
    "            verbose=0,\n",
    "            tensorboard_log=os.path.join(log_dir, \"dqn_car_racing\"),\n",
    "            # learning_rate=1e-4, \n",
    "            buffer_size=150_000,\n",
    "            # target_update_interval=5000,\n",
    "            # batch_size=16,\n",
    "            # exploration_fraction=0.01,\n",
    "            # exploration_final_eps=0.01,\n",
    "           )\n",
    "\n",
    "class TensorboardCallback(BaseCallback):\n",
    "    def _on_step(self) -> bool:\n",
    "        # La recompensa promedio del rollout\n",
    "        if self.n_calls % 100 == 0:\n",
    "            self.logger.record(\"custom/epsilon\", self.model.exploration_rate)\n",
    "        return True\n",
    "\n",
    "all_callbacks = CallbackList([eval_callback, TensorboardCallback()])\n",
    "\n",
    "# Train the model\n",
    "# first entraning stepts equal to 750_000\n",
    "# second try entraning with 500_000 steps\n",
    "model.learn(total_timesteps=750_000, \n",
    "            progress_bar=True,\n",
    "            log_interval=100,\n",
    "            callback=all_callbacks)\n",
    "\n",
    "# Save the model\n",
    "model.save(os.path.join(log_dir, \"dqn_car_racing\"))\n",
    "\n",
    "mean_reward, std_reward = evaluate_policy(model, env, n_eval_episodes=20)\n",
    "print(f\"Mean reward: {mean_reward:.2f} +/- {std_reward:.2f}\")\n",
    "\n",
    "env.close()\n",
    "env_val.close()"
   ]
  },
  {
   "cell_type": "code",
   "execution_count": 9,
   "metadata": {
    "id": "h_sM638PAI8C"
   },
   "outputs": [
    {
     "name": "stdout",
     "output_type": "stream",
     "text": [
      "🔄 Empezando evaluación…\n",
      "Best Model - Mean reward: 877.72 +/- 98.42\n",
      "Moviepy - Building video /home/kevin/Documents/projects/Car/AutonomousRacing/Workshop-3/car_racing/videos/best_model_car_racing_dqn-step-0-to-step-10000.mp4.\n",
      "Moviepy - Writing video /home/kevin/Documents/projects/Car/AutonomousRacing/Workshop-3/car_racing/videos/best_model_car_racing_dqn-step-0-to-step-10000.mp4\n",
      "\n"
     ]
    },
    {
     "name": "stderr",
     "output_type": "stream",
     "text": [
      "                                                                                "
     ]
    },
    {
     "name": "stdout",
     "output_type": "stream",
     "text": [
      "Moviepy - Done !\n",
      "Moviepy - video ready /home/kevin/Documents/projects/Car/AutonomousRacing/Workshop-3/car_racing/videos/best_model_car_racing_dqn-step-0-to-step-10000.mp4\n"
     ]
    }
   ],
   "source": [
    "# Create Evaluation CarRacing environment\n",
    "\n",
    "print(\"🔄 Empezando evaluación…\")\n",
    "\n",
    "env = make_vec_env(env_str,\n",
    "                   n_envs=1,\n",
    "                   seed=0,\n",
    "                   env_kwargs=env_kwargs_dict,\n",
    "                   wrapper_class=wrapper_class)\n",
    "env = VecFrameStack(env, n_stack=4)\n",
    "env = VecTransposeImage(env)\n",
    "\n",
    "# Load the best model\n",
    "best_model_path = os.path.join(log_dir, \"best_model.zip\")\n",
    "best_model = DQN.load(best_model_path, env=env)\n",
    "\n",
    "mean_reward, std_reward = evaluate_policy(best_model, env, n_eval_episodes=20)\n",
    "print(f\"Best Model - Mean reward: {mean_reward:.2f} +/- {std_reward:.2f}\")\n",
    "\n",
    "# Record video of the best model playing CarRacing\n",
    "env = VecVideoRecorder(env, \"./videos/\",\n",
    "                       video_length=10000,\n",
    "                       record_video_trigger=lambda x: x == 0,\n",
    "                       name_prefix=\"best_model_car_racing_dqn\")\n",
    "\n",
    "obs = env.reset()\n",
    "for _ in range(10000):\n",
    "    action, _states = best_model.predict(obs)\n",
    "    obs, rewards, dones, info = env.step(action)\n",
    "    env.render()\n",
    "    if dones:\n",
    "        break\n",
    "\n",
    "env.close()"
   ]
  },
  {
   "cell_type": "code",
   "execution_count": 10,
   "metadata": {
    "colab": {
     "base_uri": "https://localhost:8080/",
     "height": 528
    },
    "id": "5vDp5QKENXVU",
    "outputId": "37c0e740-3f59-443d-c5a2-3625c26af1be"
   },
   "outputs": [
    {
     "data": {
      "image/png": "[encoded data removed]",
      "text/plain": [
       "<Figure size 640x480 with 1 Axes>"
      ]
     },
     "metadata": {},
     "output_type": "display_data"
    }
   ],
   "source": [
    "# Load the evaluations.npz file\n",
    "data = numpy.load(os.path.join(log_dir, \"evaluations.npz\"))\n",
    "\n",
    "# Extract the relevant data\n",
    "timesteps = data['timesteps']\n",
    "results = data['results']\n",
    "\n",
    "# Calculate the mean and standard deviation of the results\n",
    "mean_results = numpy.mean(results, axis=1)\n",
    "std_results = numpy.std(results, axis=1)\n",
    "\n",
    "# Plot the results\n",
    "matplotlib.pyplot.figure()\n",
    "matplotlib.pyplot.plot(timesteps, mean_results)\n",
    "matplotlib.pyplot.fill_between(timesteps,\n",
    "                               mean_results - std_results,\n",
    "                               mean_results + std_results,\n",
    "                               alpha=0.3)\n",
    "\n",
    "matplotlib.pyplot.xlabel(\"Timesteps\")\n",
    "matplotlib.pyplot.ylabel(\"Mean Reward\")\n",
    "matplotlib.pyplot.title(f\"DQN Performance on {env_str}\")\n",
    "matplotlib.pyplot.show()"
   ]
  },
  {
   "cell_type": "code",
   "execution_count": null,
   "metadata": {},
   "outputs": [],
   "source": []
  },
  {
   "cell_type": "code",
   "execution_count": null,
   "metadata": {},
   "outputs": [],
   "source": []
  }
 ],
 "metadata": {
  "accelerator": "GPU",
  "colab": {
   "gpuType": "T4",
   "provenance": []
  },
  "kernelspec": {
   "display_name": "Python 3 (ipykernel)",
   "language": "python",
   "name": "python3"
  },
  "language_info": {
   "codemirror_mode": {
    "name": "ipython",
    "version": 3
   },
   "file_extension": ".py",
   "mimetype": "text/x-python",
   "name": "python",
   "nbconvert_exporter": "python",
   "pygments_lexer": "ipython3",
   "version": "3.10.16"
  },
  "widgets": {
   "application/vnd.jupyter.widget-state+json": {
    "30691506b1624e978b402367901d5cfc": {
     "model_module": "@jupyter-widgets/base",
     "model_module_version": "1.2.0",
     "model_name": "LayoutModel",
     "state": {
      "_model_module": "@jupyter-widgets/base",
      "_model_module_version": "1.2.0",
      "_model_name": "LayoutModel",
      "_view_count": null,
      "_view_module": "@jupyter-widgets/base",
      "_view_module_version": "1.2.0",
      "_view_name": "LayoutView",
      "align_content": null,
      "align_items": null,
      "align_self": null,
      "border": null,
      "bottom": null,
      "display": null,
      "flex": null,
      "flex_flow": null,
      "grid_area": null,
      "grid_auto_columns": null,
      "grid_auto_flow": null,
      "grid_auto_rows": null,
      "grid_column": null,
      "grid_gap": null,
      "grid_row": null,
      "grid_template_areas": null,
      "grid_template_columns": null,
      "grid_template_rows": null,
      "height": null,
      "justify_content": null,
      "justify_items": null,
      "left": null,
      "margin": null,
      "max_height": null,
      "max_width": null,
      "min_height": null,
      "min_width": null,
      "object_fit": null,
      "object_position": null,
      "order": null,
      "overflow": null,
      "overflow_x": null,
      "overflow_y": null,
      "padding": null,
      "right": null,
      "top": null,
      "visibility": null,
      "width": null
     }
    },
    "f572d00e9e4b4cf3981273d21abd8333": {
     "model_module": "@jupyter-widgets/output",
     "model_module_version": "1.0.0",
     "model_name": "OutputModel",
     "state": {
      "_dom_classes": [],
      "_model_module": "@jupyter-widgets/output",
      "_model_module_version": "1.0.0",
      "_model_name": "OutputModel",
      "_view_count": null,
      "_view_module": "@jupyter-widgets/output",
      "_view_module_version": "1.0.0",
      "_view_name": "OutputView",
      "layout": "IPY_MODEL_30691506b1624e978b402367901d5cfc",
      "msg_id": "",
      "outputs": [
       {
        "data": {
         "text/html": "<pre style=\"white-space:pre;overflow-x:auto;line-height:normal;font-family:Menlo,'DejaVu Sans Mono',consolas,'Courier New',monospace\"><span style=\"color: #800080; text-decoration-color: #800080\">   2%</span> <span style=\"color: #f92672; text-decoration-color: #f92672\">━</span><span style=\"color: #3a3a3a; text-decoration-color: #3a3a3a\">╺━━━━━━━━━━━━━━━━━━━━━━━━━━━━━━━━━━━━━━━━━━━━━━━━━━━━━━━━━━━</span> <span style=\"color: #008000; text-decoration-color: #008000\">13,870/750,000 </span> [ <span style=\"color: #808000; text-decoration-color: #808000\">0:33:02</span> &lt; <span style=\"color: #008080; text-decoration-color: #008080\">6:45:11</span> , <span style=\"color: #800000; text-decoration-color: #800000\">30 it/s</span> ]\n</pre>\n",
         "text/plain": "\u001b[35m   2%\u001b[0m \u001b[38;2;249;38;114m━\u001b[0m\u001b[38;5;237m╺\u001b[0m\u001b[38;5;237m━━━━━━━━━━━━━━━━━━━━━━━━━━━━━━━━━━━━━━━━━━━━━━━━━━━━━━━━━━━\u001b[0m \u001b[32m13,870/750,000 \u001b[0m [ \u001b[33m0:33:02\u001b[0m < \u001b[36m6:45:11\u001b[0m , \u001b[31m30 it/s\u001b[0m ]\n"
        },
        "metadata": {},
        "output_type": "display_data"
       }
      ]
     }
    }
   }
  }
 },
 "nbformat": 4,
 "nbformat_minor": 4
}
